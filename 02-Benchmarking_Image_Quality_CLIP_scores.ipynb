{
 "cells": [
  {
   "cell_type": "markdown",
   "id": "23f6b7de-ed40-4cb1-92cf-cab8145c0f90",
   "metadata": {
    "tags": []
   },
   "source": [
    "# Benchmarking Image Quality (CLIP Scores)"
   ]
  },
  {
   "cell_type": "markdown",
   "id": "eaca2c80-1d32-4f6a-93dc-72088dd18060",
   "metadata": {},
   "source": [
    "## Imports"
   ]
  },
  {
   "cell_type": "code",
   "execution_count": 3,
   "id": "7321216d-ea9f-40f4-9cdb-8d566fdaf02c",
   "metadata": {
    "tags": []
   },
   "outputs": [],
   "source": [
    "import os \n",
    "import sys\n",
    "from glob import glob\n",
    "\n",
    "import numpy as np\n",
    "import pandas as pd\n",
    "\n",
    "import matplotlib.pyplot as plt\n",
    "import seaborn as sns\n",
    "\n",
    "from sklearn import metrics"
   ]
  },
  {
   "cell_type": "markdown",
   "id": "cd843a34-0be2-4797-88ec-17f97f203dc7",
   "metadata": {
    "tags": []
   },
   "source": [
    "## Helper functions"
   ]
  },
  {
   "cell_type": "code",
   "execution_count": 4,
   "id": "75476067-7493-45e2-b2b0-6592ac2e8b99",
   "metadata": {
    "tags": []
   },
   "outputs": [],
   "source": [
    "def load_experiment(experiment_name):\n",
    "\n",
    "    ### process (combined) data frame\n",
    "    experiment_files = list(sorted(glob(f\"{experiment_name}/*_metrics.csv\")))\n",
    "\n",
    "    df = None\n",
    "    for i, experiment_file in enumerate(experiment_files):\n",
    "        df_exp = pd.read_csv(experiment_file)\n",
    "        if df is None:\n",
    "            df = df_exp.copy()\n",
    "        else:\n",
    "            df = pd.concat((df, df_exp), axis=0)\n",
    "\n",
    "    if df is None:\n",
    "        print(f\"No *_metrics.csv found for experiment_name={experiment_name}\")\n",
    "    \n",
    "    ### assign experiment name\n",
    "    df = df.assign(experiment_name = experiment_name)\n",
    "    \n",
    "    return df\n",
    "\n",
    "\n",
    "def load_experiments(experiment_names):\n",
    "    \n",
    "    df = None\n",
    "    for i, experiment_name in enumerate(experiment_names):\n",
    "        df_exp = load_experiment(experiment_name)\n",
    "        if df is None:\n",
    "            df = df_exp.copy()\n",
    "        else:\n",
    "            df = pd.concat((df, df_exp), axis=0, ignore_index=True)\n",
    "    return df\n",
    "    "
   ]
  },
  {
   "cell_type": "markdown",
   "id": "c0b5d40b-55ff-4844-b171-5cd6df4097d3",
   "metadata": {},
   "source": [
    "## Load result files"
   ]
  },
  {
   "cell_type": "code",
   "execution_count": 14,
   "id": "8acec4b7-d0b4-4a4b-b4ff-f05376bc2b6c",
   "metadata": {
    "tags": []
   },
   "outputs": [],
   "source": [
    "# define which experiments to load\n",
    "experiment_names = [\n",
    "    \n",
    "    # TreeRing\n",
    "    # 'TreeRing_ImageDistortion_gaussian_blur_r_8',\n",
    "    # 'TreeRing_DiffWMAttacker',\n",
    "    # 'TreeRing_VAEWMAttacker_bmshj2018-factorized',\n",
    "    # 'TreeRing_Rinse4x',\n",
    "    'TreeRing_InPaint_ReplaceBG',\n",
    "    \n",
    "    # StegaStamp\n",
    "    # 'StegaStamp_ImageDistortion_gaussian_blur_r_8',\n",
    "    # 'StegaStamp_DiffWMAttacker',\n",
    "    # 'StegaStamp_VAEWMAttacker_bmshj2018-factorized',\n",
    "    # 'StegaStamp_Rinse4x',\n",
    "    'StegaStamp_InPaint_ReplaceBG',\n",
    "    \n",
    "    # StableSig\n",
    "    # 'StableSig_ImageDistortion_gaussian_blur_r_8',\n",
    "    # 'StableSig_DiffWMAttacker',\n",
    "    # 'StableSig_VAEWMAttacker_bmshj2018-factorized',\n",
    "    # 'StableSig_Rinse4x',\n",
    "    'StableSig_InPaint_ReplaceBG',\n",
    "    \n",
    "    # Invisible\n",
    "    # 'Invisible_ImageDistortion_gaussian_blur_r_8',\n",
    "    # 'Invisible_DiffWMAttacker',\n",
    "    # 'Invisible_VAEWMAttacker_bmshj2018-factorized',\n",
    "    # 'Invisible_Rinse4x',\n",
    "    'Invisible_InPaint_ReplaceBG',\n",
    "    \n",
    "]"
   ]
  },
  {
   "cell_type": "code",
   "execution_count": 15,
   "id": "4e83ec60-a35d-4b2c-9f5e-b3d0233498bc",
   "metadata": {
    "tags": []
   },
   "outputs": [
    {
     "data": {
      "text/html": [
       "<div>\n",
       "<style scoped>\n",
       "    .dataframe tbody tr th:only-of-type {\n",
       "        vertical-align: middle;\n",
       "    }\n",
       "\n",
       "    .dataframe tbody tr th {\n",
       "        vertical-align: top;\n",
       "    }\n",
       "\n",
       "    .dataframe thead th {\n",
       "        text-align: right;\n",
       "    }\n",
       "</style>\n",
       "<table border=\"1\" class=\"dataframe\">\n",
       "  <thead>\n",
       "    <tr style=\"text-align: right;\">\n",
       "      <th></th>\n",
       "      <th>prompt_index</th>\n",
       "    </tr>\n",
       "    <tr>\n",
       "      <th>experiment_name</th>\n",
       "      <th></th>\n",
       "    </tr>\n",
       "  </thead>\n",
       "  <tbody>\n",
       "    <tr>\n",
       "      <th>Invisible_InPaint_ReplaceBG</th>\n",
       "      <td>1000</td>\n",
       "    </tr>\n",
       "    <tr>\n",
       "      <th>StableSig_InPaint_ReplaceBG</th>\n",
       "      <td>1000</td>\n",
       "    </tr>\n",
       "    <tr>\n",
       "      <th>StegaStamp_InPaint_ReplaceBG</th>\n",
       "      <td>1000</td>\n",
       "    </tr>\n",
       "    <tr>\n",
       "      <th>TreeRing_InPaint_ReplaceBG</th>\n",
       "      <td>1000</td>\n",
       "    </tr>\n",
       "  </tbody>\n",
       "</table>\n",
       "</div>"
      ],
      "text/plain": [
       "                              prompt_index\n",
       "experiment_name                           \n",
       "Invisible_InPaint_ReplaceBG           1000\n",
       "StableSig_InPaint_ReplaceBG           1000\n",
       "StegaStamp_InPaint_ReplaceBG          1000\n",
       "TreeRing_InPaint_ReplaceBG            1000"
      ]
     },
     "execution_count": 15,
     "metadata": {},
     "output_type": "execute_result"
    }
   ],
   "source": [
    "# load the experiment result files\n",
    "df_ = load_experiments(experiment_names)\n",
    "\n",
    "# display number of successful prompts \n",
    "df_.groupby(\"experiment_name\").count()[['prompt_index']]"
   ]
  },
  {
   "cell_type": "markdown",
   "id": "a3fc4a88-984e-4565-96d9-33c413c9e4eb",
   "metadata": {},
   "source": [
    "## Compute additional metrics"
   ]
  },
  {
   "cell_type": "code",
   "execution_count": 16,
   "id": "2e7eadac-6455-45aa-8b54-cf29198b0320",
   "metadata": {
    "tags": []
   },
   "outputs": [],
   "source": [
    "# Assign watermark type\n",
    "df_ = df_.assign(wm_type = [_.split('_')[0] for _ in df_.experiment_name])"
   ]
  },
  {
   "cell_type": "markdown",
   "id": "80ebf185-0faa-4976-a9d3-c36ad19fbbc2",
   "metadata": {},
   "source": [
    "## Compute Average Watermark Removal Metrics (Table 3)"
   ]
  },
  {
   "cell_type": "code",
   "execution_count": 18,
   "id": "4c9f9730-af89-4ec9-b559-4881d6f4877e",
   "metadata": {
    "tags": []
   },
   "outputs": [
    {
     "name": "stdout",
     "output_type": "stream",
     "text": [
      "[+] Table_04-average_image_quality_metrics_clip_scores.csv\n"
     ]
    },
    {
     "data": {
      "text/html": [
       "<div>\n",
       "<style scoped>\n",
       "    .dataframe tbody tr th:only-of-type {\n",
       "        vertical-align: middle;\n",
       "    }\n",
       "\n",
       "    .dataframe tbody tr th {\n",
       "        vertical-align: top;\n",
       "    }\n",
       "\n",
       "    .dataframe thead th {\n",
       "        text-align: right;\n",
       "    }\n",
       "</style>\n",
       "<table border=\"1\" class=\"dataframe\">\n",
       "  <thead>\n",
       "    <tr style=\"text-align: right;\">\n",
       "      <th></th>\n",
       "      <th>no_w_no_attack_sim</th>\n",
       "      <th>no_w_sim</th>\n",
       "      <th>w_no_attack_sim</th>\n",
       "      <th>w_sim</th>\n",
       "      <th>w_pct_mask</th>\n",
       "    </tr>\n",
       "    <tr>\n",
       "      <th>experiment_name</th>\n",
       "      <th></th>\n",
       "      <th></th>\n",
       "      <th></th>\n",
       "      <th></th>\n",
       "      <th></th>\n",
       "    </tr>\n",
       "  </thead>\n",
       "  <tbody>\n",
       "    <tr>\n",
       "      <th>TreeRing_InPaint_ReplaceBG</th>\n",
       "      <td>0.363154</td>\n",
       "      <td>0.288779</td>\n",
       "      <td>0.363520</td>\n",
       "      <td>0.291023</td>\n",
       "      <td>0.612084</td>\n",
       "    </tr>\n",
       "    <tr>\n",
       "      <th>StegaStamp_InPaint_ReplaceBG</th>\n",
       "      <td>0.363154</td>\n",
       "      <td>0.288779</td>\n",
       "      <td>0.354229</td>\n",
       "      <td>0.266372</td>\n",
       "      <td>0.656240</td>\n",
       "    </tr>\n",
       "    <tr>\n",
       "      <th>StableSig_InPaint_ReplaceBG</th>\n",
       "      <td>0.363154</td>\n",
       "      <td>0.288779</td>\n",
       "      <td>0.364144</td>\n",
       "      <td>0.270532</td>\n",
       "      <td>0.649450</td>\n",
       "    </tr>\n",
       "    <tr>\n",
       "      <th>Invisible_InPaint_ReplaceBG</th>\n",
       "      <td>0.363154</td>\n",
       "      <td>0.288779</td>\n",
       "      <td>0.361916</td>\n",
       "      <td>0.287877</td>\n",
       "      <td>0.604205</td>\n",
       "    </tr>\n",
       "  </tbody>\n",
       "</table>\n",
       "</div>"
      ],
      "text/plain": [
       "                              no_w_no_attack_sim  no_w_sim  w_no_attack_sim  \\\n",
       "experiment_name                                                               \n",
       "TreeRing_InPaint_ReplaceBG              0.363154  0.288779         0.363520   \n",
       "StegaStamp_InPaint_ReplaceBG            0.363154  0.288779         0.354229   \n",
       "StableSig_InPaint_ReplaceBG             0.363154  0.288779         0.364144   \n",
       "Invisible_InPaint_ReplaceBG             0.363154  0.288779         0.361916   \n",
       "\n",
       "                                 w_sim  w_pct_mask  \n",
       "experiment_name                                     \n",
       "TreeRing_InPaint_ReplaceBG    0.291023    0.612084  \n",
       "StegaStamp_InPaint_ReplaceBG  0.266372    0.656240  \n",
       "StableSig_InPaint_ReplaceBG   0.270532    0.649450  \n",
       "Invisible_InPaint_ReplaceBG   0.287877    0.604205  "
      ]
     },
     "execution_count": 18,
     "metadata": {},
     "output_type": "execute_result"
    }
   ],
   "source": [
    "# select watermark removal metric columns\n",
    "use_columns = [\n",
    "    ### clip scores\n",
    "    'no_w_no_attack_sim', 'no_w_sim', \n",
    "       'w_no_attack_sim',    'w_sim',\n",
    "    ### image quality scores\n",
    "    # 'no_w_mse',  'no_w_no_bg_mse',\n",
    "    #   'w_mse',     'w_no_bg_mse',\n",
    "    # 'no_w_ssim', 'no_w_no_bg_ssim',\n",
    "    #   'w_ssim',    'w_no_bg_ssim',\n",
    "    # 'no_w_psnr', 'no_w_no_bg_psnr',\n",
    "    #   'w_psnr',    'w_no_bg_psnr',\n",
    "    ### other\n",
    "    'w_pct_mask', 'experiment_name'\n",
    "]\n",
    "\n",
    "\n",
    "# extract watermark removal metrics\n",
    "df = df_[use_columns].groupby(\"experiment_name\").mean()\n",
    "df = df.loc[experiment_names]\n",
    "\n",
    "# save the dataframe to csv\n",
    "save_as = \"Table_04-average_image_quality_metrics_clip_scores.csv\"\n",
    "df.to_csv(save_as)\n",
    "print(f\"[+] {save_as}\")\n",
    "\n",
    "# show dataframe\n",
    "df"
   ]
  }
 ],
 "metadata": {
  "kernelspec": {
   "display_name": "NERSC Python",
   "language": "python",
   "name": "python3"
  },
  "language_info": {
   "codemirror_mode": {
    "name": "ipython",
    "version": 3
   },
   "file_extension": ".py",
   "mimetype": "text/x-python",
   "name": "python",
   "nbconvert_exporter": "python",
   "pygments_lexer": "ipython3",
   "version": "3.11.7"
  }
 },
 "nbformat": 4,
 "nbformat_minor": 5
}
